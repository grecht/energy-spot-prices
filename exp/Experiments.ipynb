{
 "cells": [
  {
   "cell_type": "code",
   "execution_count": null,
   "id": "d1e60b54-0f75-49ac-8ac3-cc493e0337ab",
   "metadata": {},
   "outputs": [],
   "source": [
    "import pandas as pd\n",
    "from sklearn.linear_model import LinearRegression\n",
    "import matplotlib.pyplot as plt"
   ]
  },
  {
   "cell_type": "code",
   "execution_count": null,
   "id": "39538cd8",
   "metadata": {},
   "outputs": [],
   "source": [
    "data_src = r'../dat/bundesnetzagentur/pre_processed_data/prod_price_de_lu_2019_2021.csv'"
   ]
  },
  {
   "cell_type": "markdown",
   "id": "63a1f84e-fc4c-4c7a-9ac4-9435ff562048",
   "metadata": {},
   "source": [
    "# Hourly data from Bundesnetzagentur (DE/LU bidding zone, 2019-2021)"
   ]
  },
  {
   "cell_type": "code",
   "execution_count": null,
   "id": "2fea7622-0b56-4f56-9194-823ebf201be7",
   "metadata": {},
   "outputs": [],
   "source": [
    "combined = pd.read_csv(data_src,\n",
    "                       parse_dates=['time'])\n",
    "combined = combined.set_index('time')\n",
    "combined"
   ]
  },
  {
   "cell_type": "code",
   "execution_count": null,
   "id": "6760c62e-6af4-458a-b958-13d2f9999f5b",
   "metadata": {},
   "outputs": [],
   "source": [
    "fig, ax1 = plt.subplots(figsize=(20,10))\n",
    "\n",
    "ax2 = ax1.twinx()\n",
    "\n",
    "ax1.plot(combined['Price'], color='red')\n",
    "ax1.set_ylabel('Price [€/MWh]')\n",
    "\n",
    "ax2.plot(combined['Wind'], color='blue')\n",
    "ax2.set_ylabel('Wind [MWh]')\n",
    "\n",
    "plt.plot()"
   ]
  },
  {
   "cell_type": "code",
   "execution_count": null,
   "id": "0a33dff2-c16a-4c51-96d6-a1fd54d63ad3",
   "metadata": {},
   "outputs": [],
   "source": [
    "fig, ax1 = plt.subplots(figsize=(12,6))\n",
    "\n",
    "ax2 = ax1.twinx()\n",
    "\n",
    "day = '2019-08-06'\n",
    "\n",
    "ax1.plot(combined.loc[day, 'Price'], color='red')\n",
    "ax1.set_ylabel('Price [€/MWh]')\n",
    "\n",
    "ax2.plot(combined.loc[day, 'Wind'], color='blue')\n",
    "ax2.set_ylabel('Wind [MWh]')\n",
    "\n",
    "plt.plot()"
   ]
  },
  {
   "cell_type": "markdown",
   "id": "943a25bb-84a2-4a4d-a070-3c64df9f0b2a",
   "metadata": {},
   "source": [
    "## Use Regression"
   ]
  },
  {
   "cell_type": "markdown",
   "id": "e3f36074-57d6-485f-8914-4d7c2df0cdf2",
   "metadata": {},
   "source": [
    "### Deal with missing values"
   ]
  },
  {
   "cell_type": "code",
   "execution_count": null,
   "id": "11b6da44-d8ce-447d-9736-59270ce2f844",
   "metadata": {},
   "outputs": [],
   "source": [
    "combined['Wind'].loc[combined['Wind'].isna()]"
   ]
  },
  {
   "cell_type": "code",
   "execution_count": null,
   "id": "a3fc1fb2-bdce-43b4-9a88-79983b69d9f6",
   "metadata": {},
   "outputs": [],
   "source": [
    "combined['Price'].loc[combined['Price'].isna()]"
   ]
  },
  {
   "cell_type": "code",
   "execution_count": null,
   "id": "8c0ac75b-52b8-44e3-8235-f3844a88e4bd",
   "metadata": {},
   "outputs": [],
   "source": [
    "combined = combined.dropna()"
   ]
  },
  {
   "cell_type": "code",
   "execution_count": null,
   "id": "779ee4ca-6207-4e0b-bcac-4ecb4200b7a1",
   "metadata": {},
   "outputs": [],
   "source": [
    "X = combined['Solar & Wind'].to_numpy().reshape(-1,1)\n",
    "y = combined['Price'].to_numpy()\n",
    "\n",
    "reg = LinearRegression()\n",
    "reg.fit(X, y)\n",
    "\n",
    "m = reg.coef_\n",
    "b = reg.intercept_\n",
    "\n",
    "plt.figure(figsize=(10,5))\n",
    "\n",
    "plt.plot(X, y, 'o')\n",
    "plt.plot(X, m*X + b, 'r')\n",
    "\n",
    "plt.xlabel('Solar & Wind [MWh]')\n",
    "plt.ylabel('Price [€/MWh]')\n",
    "\n",
    "plt.tight_layout()\n",
    "# plt.savefig('regression_test.pdf')\n",
    "plt.show()"
   ]
  },
  {
   "cell_type": "markdown",
   "id": "6d821c2a-8580-4a63-bfe5-c1fb1bace708",
   "metadata": {},
   "source": [
    "### Pumped-Storage Hydro is used when prices are high\n",
    "They do arbitrage in time."
   ]
  },
  {
   "cell_type": "code",
   "execution_count": null,
   "id": "6215dac9-faa1-430f-8e70-3197f3f0b82b",
   "metadata": {},
   "outputs": [],
   "source": [
    "X = combined['Pumped-Storage Hydro'].to_numpy().reshape(-1,1)\n",
    "y = combined['Price'].to_numpy()\n",
    "\n",
    "reg = LinearRegression()\n",
    "reg.fit(X, y)\n",
    "\n",
    "m = reg.coef_\n",
    "b = reg.intercept_\n",
    "\n",
    "plt.figure(figsize=(10,5))\n",
    "\n",
    "plt.plot(X, y, 'o')\n",
    "plt.plot(X, m*X + b, 'r')\n",
    "\n",
    "plt.xlabel(' [MWh]')\n",
    "plt.ylabel('Price [€/MWh]')\n",
    "\n",
    "plt.tight_layout()\n",
    "# plt.savefig('regression_test.pdf')\n",
    "plt.show()"
   ]
  },
  {
   "cell_type": "markdown",
   "id": "92a04399-82d0-4414-8761-d82556400ad5",
   "metadata": {},
   "source": [
    "## Take a look at daily values"
   ]
  },
  {
   "cell_type": "code",
   "execution_count": null,
   "id": "b3b07d2a-cd50-490d-8de5-ac2e72d2b49c",
   "metadata": {},
   "outputs": [],
   "source": [
    "daily = combined.resample('D').mean()\n",
    "\n",
    "X = daily['Wind'].to_numpy().reshape(-1,1)\n",
    "y = daily['Price'].to_numpy()\n",
    "\n",
    "reg = LinearRegression()\n",
    "reg.fit(X, y)\n",
    "\n",
    "m = reg.coef_\n",
    "b = reg.intercept_\n",
    "\n",
    "plt.figure(figsize=(10,5))\n",
    "\n",
    "plt.plot(X, y, 'o')\n",
    "plt.plot(X, m*X + b, 'r')\n",
    "\n",
    "plt.xlabel('Wind [MWh]')\n",
    "plt.ylabel('Price [€/MWh]')\n",
    "\n",
    "plt.tight_layout()\n",
    "# plt.savefig('regression_test.pdf')\n",
    "plt.show()"
   ]
  },
  {
   "cell_type": "code",
   "execution_count": null,
   "id": "1071bc06-0d8d-4da2-a2d7-90c9bd7ec04d",
   "metadata": {},
   "outputs": [],
   "source": []
  }
 ],
 "metadata": {
  "kernelspec": {
   "display_name": "Python 3 (ipykernel)",
   "language": "python",
   "name": "python3"
  },
  "language_info": {
   "codemirror_mode": {
    "name": "ipython",
    "version": 3
   },
   "file_extension": ".py",
   "mimetype": "text/x-python",
   "name": "python",
   "nbconvert_exporter": "python",
   "pygments_lexer": "ipython3",
   "version": "3.8.12"
  }
 },
 "nbformat": 4,
 "nbformat_minor": 5
}
