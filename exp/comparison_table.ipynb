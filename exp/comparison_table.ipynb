{
 "cells": [
  {
   "cell_type": "code",
   "execution_count": null,
   "id": "8640d0e2",
   "metadata": {},
   "outputs": [],
   "source": [
    "import pandas as pd \n",
    "import numpy as np\n",
    "from pylatex import Document, Tabular, utils, Command"
   ]
  },
  {
   "cell_type": "code",
   "execution_count": null,
   "id": "46401bff",
   "metadata": {},
   "outputs": [],
   "source": [
    "data_src = r'../dat/bundesnetzagentur/pre_processed_data/prod_price_de_lu_2019_2021.csv'"
   ]
  },
  {
   "cell_type": "code",
   "execution_count": null,
   "id": "f1f9a55f",
   "metadata": {},
   "outputs": [],
   "source": [
    "df = pd.read_csv(data_src,\n",
    "                parse_dates=['time'])\n",
    "df = df.set_index('time')\n",
    "df = df.resample('Y').mean()\n",
    "\n",
    "renewable = ['Biomass', 'Hydropower', 'Solar', 'Wind', 'Other Renewables']\n",
    "conventional = ['Nuclear', 'Brown Coal', 'Black Coal' ,'Natural Gas', 'Other Conventional Sources']\n",
    "\n",
    "\n",
    "price = df['Price']\n",
    "df.drop(['Pumped-Storage Hydro', 'Price', 'Solar & Wind', 'Offshore Wind', 'Onshore Wind'], axis=1, inplace=True)\n",
    "\n",
    "df['Total renewable'] = df[renewable].sum(axis=1)\n",
    "df['Total conventional'] = df[conventional].sum(axis=1)\n",
    "df['Total'] = df[['Total renewable', 'Total conventional']].sum(axis=1)\n",
    "df = df.round().astype(int)\n",
    "df.head()"
   ]
  },
  {
   "cell_type": "code",
   "execution_count": null,
   "id": "eee60d90",
   "metadata": {},
   "outputs": [],
   "source": [
    "# function for adding new rows to the tabular\n",
    "def add_row(tabular, tabular_row_name, df, df_column_name):\n",
    "    tabular.add_row((tabular_row_name, df[df_column_name].values[0], df[df_column_name].values[1], df[df_column_name].values[2]))"
   ]
  },
  {
   "cell_type": "code",
   "execution_count": null,
   "id": "14386836",
   "metadata": {},
   "outputs": [],
   "source": [
    "doc = Document()\n",
    "tabular = Tabular(table_spec='l c c c',\n",
    "                  col_space='12pt',\n",
    "                  booktabs=True)\n",
    "\n",
    "with doc.create(tabular) as table:\n",
    "    table.add_row(('', utils.bold('2019'), utils.bold('2020'), utils.bold('2021')))\n",
    "    table.add_hline()\n",
    "    table.add_row((utils.italic('Renewable'), '', '', ''))\n",
    "    add_row(table, 'Wind', df, 'Wind')\n",
    "    add_row(table, 'Hydropower', df, 'Hydropower')\n",
    "    add_row(table, 'Solar', df, 'Solar')\n",
    "    add_row(table, 'Biomass', df, 'Biomass')\n",
    "    add_row(table, 'Other Renewables', df, 'Other Renewables')\n",
    "    table.add_hline()\n",
    "    add_row(table, 'Total Renewables', df, 'Total renewable')\n",
    "    table.add_empty_row()\n",
    "    table.add_row((utils.italic('Conventional'), '', '', ''))\n",
    "    add_row(table, 'Nuclear', df, 'Nuclear')\n",
    "    add_row(table, 'Brown Coal', df, 'Brown Coal')\n",
    "    add_row(table, 'Black Coal', df, 'Black Coal')\n",
    "    add_row(table, 'Natural Gas', df, 'Natural Gas')\n",
    "    add_row(table, 'Other Conventionals', df, 'Other Conventional Sources')\n",
    "    table.add_hline()\n",
    "    add_row(table, 'Total Conventionals', df, 'Total conventional')\n",
    "    table.add_empty_row()\n",
    "    table.add_hline()\n",
    "    add_row(table, utils.bold('Total'), df, 'Total')\n",
    "\n",
    "doc.generate_pdf('comparison_table', clean_tex=False)"
   ]
  }
 ],
 "metadata": {
  "kernelspec": {
   "display_name": "Python 3",
   "language": "python",
   "name": "python3"
  },
  "language_info": {
   "codemirror_mode": {
    "name": "ipython",
    "version": 3
   },
   "file_extension": ".py",
   "mimetype": "text/x-python",
   "name": "python",
   "nbconvert_exporter": "python",
   "pygments_lexer": "ipython3",
   "version": "3.8.12"
  }
 },
 "nbformat": 4,
 "nbformat_minor": 5
}
