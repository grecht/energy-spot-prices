{
 "cells": [
  {
   "cell_type": "code",
   "execution_count": null,
   "id": "da7c31e3",
   "metadata": {},
   "outputs": [],
   "source": [
    "import pandas as pd\n",
    "import matplotlib.pyplot as plt\n",
    "from tueplots import bundles"
   ]
  },
  {
   "cell_type": "code",
   "execution_count": null,
   "id": "9d7fe03d",
   "metadata": {},
   "outputs": [],
   "source": [
    "data_src = r'../dat/bundesnetzagentur/pre_processed_data/prod_price_de_lu_2019_2021.csv'"
   ]
  },
  {
   "cell_type": "code",
   "execution_count": null,
   "id": "9500fe8a",
   "metadata": {},
   "outputs": [],
   "source": [
    "plt.rcParams.update(bundles.neurips2021(usetex=False))\n",
    "\n",
    "df = pd.read_csv(data_src,\n",
    "                parse_dates=['time'])\n",
    "df = df.set_index('time')\n",
    "df = df.resample('3M').mean()\n",
    "df.index = df.index.date\n",
    "\n",
    "df = df.drop(columns=['Price', 'Solar & Wind', 'Wind', 'Pumped-Storage Hydro'])\n",
    "\n",
    "fig = df.plot(kind='bar',\n",
    "              stacked=True,\n",
    "              width=0.4,\n",
    "              figsize=(10,5),\n",
    "              rot=45)\n",
    "\n",
    "fig.set_xlabel('Date')\n",
    "fig.set_ylabel('Electricity Generation [MWh]')\n",
    "\n",
    "plt.savefig('TestDataPresentation.pdf')\n",
    "plt.show()\n"
   ]
  }
 ],
 "metadata": {
  "kernelspec": {
   "display_name": "Python 3 (ipykernel)",
   "language": "python",
   "name": "python3"
  },
  "language_info": {
   "codemirror_mode": {
    "name": "ipython",
    "version": 3
   },
   "file_extension": ".py",
   "mimetype": "text/x-python",
   "name": "python",
   "nbconvert_exporter": "python",
   "pygments_lexer": "ipython3",
   "version": "3.8.12"
  }
 },
 "nbformat": 4,
 "nbformat_minor": 5
}
