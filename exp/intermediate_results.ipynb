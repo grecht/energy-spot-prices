{
 "cells": [
  {
   "cell_type": "markdown",
   "id": "67170d15-8654-4a50-b100-639009731188",
   "metadata": {},
   "source": [
    "# Effects of Renewable and Conventional Electricity Generation on Spot Market Prices in Germany and Luxemburg\n",
    "\n",
    "We use [data provided by the German Federal Network Agency](https://www.smard.de/home/downloadcenter/download-marktdaten) to investigate the effects of renewable and conventional electricity generation on spot market prices in the bidding zone Germany / Luxemburg from 2019 to 2021.\n",
    "The data consists of hourly data on electricity generation in MWh separated by technology type (e.g. natural gas, solar, wind,...) and the intraday spot market prices as €/MWh values in 15-minute intervals.\n",
    "We resample the latter to hourly intervals in order to simplify the analysis.\n",
    "\n",
    "The results meet our expectation that renewables depress prices and conventionals cause higher prices due to the [merit-order](https://en.wikipedia.org/wiki/Merit_order)."
   ]
  },
  {
   "cell_type": "code",
   "execution_count": null,
   "id": "398634fd-4447-481f-879a-93975d82570a",
   "metadata": {},
   "outputs": [],
   "source": [
    "import pandas as pd\n",
    "from sklearn.linear_model import LinearRegression\n",
    "import matplotlib.pyplot as plt\n",
    "from tueplots import bundles\n",
    "import os"
   ]
  },
  {
   "cell_type": "code",
   "execution_count": null,
   "id": "e00e1e10-9f49-4038-94d9-54a3a88fdba4",
   "metadata": {},
   "outputs": [],
   "source": [
    "# plt.rcParams.update(bundles.neurips2021(usetex=False))"
   ]
  },
  {
   "cell_type": "markdown",
   "id": "1c9ae562-1fb1-4fcd-b89b-3ee41b7eef56",
   "metadata": {},
   "source": [
    "## Prepare Data for Bidding Zone DE/LU (2019-2021)\n",
    "### Extract Prices"
   ]
  },
  {
   "cell_type": "code",
   "execution_count": null,
   "id": "2928eda9-84df-4072-930e-6999dd53c685",
   "metadata": {},
   "outputs": [],
   "source": [
    "src_path = '../dat/bundesnetzagentur'\n",
    "price_files_2018_2021 = ['Grosshandelspreise_2018_2019.csv',\n",
    "                         'Grosshandelspreise_2020_2021.csv']\n",
    "\n",
    "prices_de_lu = pd.DataFrame()\n",
    "\n",
    "for file in price_files_2018_2021:\n",
    "    df = pd.read_csv(os.path.join(src_path, file),\n",
    "                     delimiter=';',\n",
    "                     # Use European decimal and thousands symbols\n",
    "                     decimal=',', \n",
    "                     thousands='.',\n",
    "                     # read '-' as np.nan\n",
    "                     na_values=['-'],\n",
    "                     parse_dates=[['Datum', 'Uhrzeit']])\n",
    "    prices_de_lu = prices_de_lu.append(df)\n",
    "    \n",
    "prices_de_lu = prices_de_lu.set_index('Datum_Uhrzeit')\n",
    "prices_de_lu = prices_de_lu.sort_index()\n",
    "\n",
    "# Extract prices from 2019 onwards for bidding zone DE/LU\n",
    "prices_de_lu = prices_de_lu.loc['2019':, 'Deutschland/Luxemburg[€/MWh]']\n",
    "prices_de_lu"
   ]
  },
  {
   "cell_type": "markdown",
   "id": "e7a22b54-4cb1-48aa-a349-5a1fc807a63e",
   "metadata": {},
   "source": [
    "### Extract Electricity Generation Data"
   ]
  },
  {
   "cell_type": "code",
   "execution_count": null,
   "id": "d91c4ed2-c6bf-4af2-8723-fe6226fb48fc",
   "metadata": {},
   "outputs": [],
   "source": [
    "erzeugung_in_regelzonen = os.path.join(src_path, 'erzeugung_in_regelzonen')\n",
    "prod_files_de_lu = ['Realisierte_Erzeugung_DE_LU_2018-10-01_2019.csv',\n",
    "                    'Realisierte_Erzeugung_DE_LU_2020_2021.csv']\n",
    "\n",
    "prod_de_lu = pd.DataFrame()\n",
    "\n",
    "for file in prod_files_de_lu:\n",
    "    df = pd.read_csv(os.path.join(erzeugung_in_regelzonen, file),\n",
    "                     delimiter=';',\n",
    "                     # Use European decimal and thousands symbols, directly parse dates\n",
    "                     decimal=',', \n",
    "                     thousands='.',\n",
    "                     # read '-' as np.nan\n",
    "                     na_values=['-'],\n",
    "                     parse_dates=[['Datum', 'Uhrzeit']])\n",
    "    prod_de_lu = prod_de_lu.append(df)\n",
    "\n",
    "prod_de_lu = prod_de_lu.set_index('Datum_Uhrzeit')\n",
    "prod_de_lu = prod_de_lu.sort_index()\n",
    "\n",
    "# Extract production from 2019 onwards\n",
    "prod_de_lu = prod_de_lu.loc['2019':]\n",
    "\n",
    "# Resample to hours (same as prices)\n",
    "prod_de_lu = prod_de_lu.resample('H').mean()\n",
    "\n",
    "# Combine onshore and offshore wind\n",
    "prod_de_lu['Wind'] = prod_de_lu.loc[:, ('Wind Offshore[MWh]', 'Wind Onshore[MWh]')].sum(axis=1)"
   ]
  },
  {
   "cell_type": "markdown",
   "id": "51dd8845-285f-49a1-9b3a-55a136d693a2",
   "metadata": {},
   "source": [
    "### Join Data and Translate Columns"
   ]
  },
  {
   "cell_type": "code",
   "execution_count": null,
   "id": "4fb1c288-83b7-4de0-9a87-28cc95665e7d",
   "metadata": {},
   "outputs": [],
   "source": [
    "combined = prod_de_lu.join(prices_de_lu)\n",
    "\n",
    "column_names_map = {\n",
    "    'Biomasse[MWh]': 'Biomass',\n",
    "    'Wasserkraft[MWh]': 'Hydropower',\n",
    "    'Wind Offshore[MWh]': 'Offshore Wind', \n",
    "    'Wind Onshore[MWh]': 'Onshore Wind',\n",
    "    'Photovoltaik[MWh]': 'Solar',\n",
    "    'Sonstige Erneuerbare[MWh]': 'Other Renewables',\n",
    "    'Kernenergie[MWh]': 'Nuclear',\n",
    "    'Braunkohle[MWh]': 'Brown Coal',\n",
    "    'Steinkohle[MWh]': 'Black Coal',\n",
    "    'Erdgas[MWh]': 'Natural Gas',\n",
    "    'Pumpspeicher[MWh]': 'Pumped-Storage Hydro',\n",
    "    'Sonstige Konventionelle[MWh]': 'Other Conventional Sources',\n",
    "    'Deutschland/Luxemburg[€/MWh]': 'Price'\n",
    "}\n",
    "\n",
    "combined = combined.rename(columns=column_names_map)\n",
    "combined['Solar & Wind'] = combined[['Solar', 'Wind']].sum(axis=1)\n",
    "combined.index = combined.index.rename('time')\n",
    "\n",
    "# some values are missing\n",
    "combined = combined.dropna()\n",
    "\n",
    "combined"
   ]
  },
  {
   "cell_type": "markdown",
   "id": "e1dc418e-faf8-4cc8-8e16-cba2343a1fff",
   "metadata": {},
   "source": [
    "## Some Visualizations"
   ]
  },
  {
   "cell_type": "markdown",
   "id": "a72f9103-ed5a-433d-b2eb-258090bcf0bb",
   "metadata": {},
   "source": [
    "### Timeseries from August 2019\n",
    "Shows diurnal variation of solar and negative prices due to high generation from wind."
   ]
  },
  {
   "cell_type": "code",
   "execution_count": null,
   "id": "ddfea49d-3bd0-45b2-a8ce-b9e7380f6a9c",
   "metadata": {},
   "outputs": [],
   "source": [
    "fig, ax1 = plt.subplots(figsize=(12,4))\n",
    "\n",
    "ax2 = ax1.twinx()\n",
    "\n",
    "date = '2019-08'\n",
    "\n",
    "ax1.plot(combined.loc[date, 'Price'], color='black', label='Price')\n",
    "ax1.set_ylabel('Spot Price [€/MWh]')\n",
    "\n",
    "ax2.plot(combined.loc[date, 'Solar'], color='tab:orange', label='Solar')\n",
    "\n",
    "ax2.plot(combined.loc[date, 'Wind'], color='tab:blue', label='Wind')\n",
    "ax2.set_ylabel('Electricity Generation [MWh]')\n",
    "\n",
    "handles, labels = [(a + b) for a, b in zip(ax1.get_legend_handles_labels(), ax2.get_legend_handles_labels())]\n",
    "fig.legend(handles, labels, loc='upper center')\n",
    "\n",
    "plt.plot()"
   ]
  },
  {
   "cell_type": "markdown",
   "id": "ff6efec1-70ea-4cb8-880b-807bfaab1ab4",
   "metadata": {},
   "source": [
    "### Quarterly Technology Mix"
   ]
  },
  {
   "cell_type": "code",
   "execution_count": null,
   "id": "7e92fda0-bbbb-4e49-85f8-8889a7fc7278",
   "metadata": {},
   "outputs": [],
   "source": [
    "quarterly       = combined.resample('3M').mean()\n",
    "quarterly.index = quarterly.index.date\n",
    "\n",
    "quarterly = quarterly.drop(columns=['Price', 'Solar & Wind', 'Wind', 'Pumped-Storage Hydro'])\n",
    "\n",
    "fig = quarterly.plot(kind='bar',\n",
    "              stacked=True,\n",
    "              width=0.4,\n",
    "              figsize=(12,6),\n",
    "              rot=45)\n",
    "\n",
    "fig.set_xlabel('Date')\n",
    "fig.set_ylabel('Electricity Generation [MWh]')\n",
    "\n",
    "plt.savefig('TestDataPresentation.pdf')\n",
    "plt.show()"
   ]
  },
  {
   "cell_type": "markdown",
   "id": "ad4b3fa1-1b30-435c-b3f2-50b44baa6bfb",
   "metadata": {},
   "source": [
    "## Use Regression to Investigate Effect of Renewables and Conventionals on Spot Price"
   ]
  },
  {
   "cell_type": "markdown",
   "id": "8e4b72f0-faab-4c25-a1a2-7d6236b9c6b4",
   "metadata": {},
   "source": [
    "### Solar, Wind, and both"
   ]
  },
  {
   "cell_type": "code",
   "execution_count": null,
   "id": "ed788a96-51cd-49cb-b1d2-f934be4b948e",
   "metadata": {},
   "outputs": [],
   "source": [
    "cols = [('Solar', 'tab:orange'), ('Wind', 'tab:blue'), ('Solar & Wind', 'tab:green')]\n",
    "\n",
    "fig, axs = plt.subplots(1, 3, figsize=(16,4), sharey=True)\n",
    "\n",
    "axs[0].set_ylabel('Price [€/MWh]')\n",
    "\n",
    "for i in range(0, len(axs)):\n",
    "    col, color = cols[i]\n",
    "    ax  = axs[i]\n",
    "    \n",
    "    X = combined[col].to_numpy().reshape(-1,1)\n",
    "    y = combined['Price'].to_numpy()\n",
    "\n",
    "    reg = LinearRegression()\n",
    "    reg.fit(X, y)\n",
    "\n",
    "    m = reg.coef_\n",
    "    b = reg.intercept_\n",
    "    \n",
    "    ax.plot(X, y, 'o', color=color, ms=4, alpha=0.5)\n",
    "    ax.plot(X, m*X + b, 'black')\n",
    "\n",
    "    ax.set_xlabel(f'{col} Generation [MWh]')"
   ]
  },
  {
   "cell_type": "markdown",
   "id": "af9649d3-68b2-43a6-abef-e2d6bd1e5f58",
   "metadata": {},
   "source": [
    "### Comparison of Conventional and Renewable"
   ]
  },
  {
   "cell_type": "code",
   "execution_count": null,
   "id": "ad7e3e99-d94f-452c-b4b5-e52661474a02",
   "metadata": {},
   "outputs": [],
   "source": [
    "renewable = ['Biomass', \n",
    "             'Hydropower', \n",
    "             'Offshore Wind', \n",
    "             'Onshore Wind', \n",
    "             'Solar', \n",
    "             'Other Renewables']\n",
    "conventional = ['Nuclear', \n",
    "                'Brown Coal', \n",
    "                'Black Coal',\n",
    "                'Natural Gas',\n",
    "                'Other Conventional Sources']\n",
    "\n",
    "con_ren                 = combined # .resample('D').mean()\n",
    "con_ren['Conventional'] = con_ren.loc[:, conventional].sum(axis=1)\n",
    "con_ren['Renewable']    = con_ren.loc[:, renewable].sum(axis=1)\n",
    "con_ren                 = con_ren.filter(['Conventional', 'Renewable', 'Price'])\n",
    "con_ren['Total']        = con_ren.loc[:, ('Conventional', 'Renewable')].sum(axis=1)\n",
    "con_ren"
   ]
  },
  {
   "cell_type": "code",
   "execution_count": null,
   "id": "d73b75b6-5d57-46c5-9547-1af7be4b2726",
   "metadata": {},
   "outputs": [],
   "source": [
    "X_con = con_ren['Conventional'].to_numpy().reshape(-1,1)\n",
    "X_ren = con_ren['Renewable'].to_numpy().reshape(-1,1)\n",
    "y     = con_ren['Price']\n",
    "\n",
    "reg_con = LinearRegression()\n",
    "reg_ren = LinearRegression()\n",
    "\n",
    "reg_con.fit(X_con, y)\n",
    "reg_ren.fit(X_ren, y)\n",
    "\n",
    "m_con, b_con = reg_con.coef_, reg_con.intercept_\n",
    "m_ren, b_ren = reg_ren.coef_, reg_ren.intercept_\n",
    "\n",
    "plt.figure(figsize=(12,6))\n",
    "\n",
    "ren_color = 'tab:olive'\n",
    "con_color = 'tab:purple'\n",
    "\n",
    "plt.plot(X_ren, y, 'o', label='Renewable', color=ren_color, ms=5, alpha=0.5)\n",
    "plt.plot(X_con, y, 'o', label='Conventional', color=con_color, ms=5, alpha=0.5)\n",
    "\n",
    "plt.plot(X_ren, m_ren * X_ren + b_ren, 'black', label='Regression Line (Renewable)', linewidth=3)\n",
    "plt.plot(X_con, m_con * X_con + b_con, 'black', label='Regression Line (Conventional)', linewidth=3, linestyle='dotted')\n",
    "\n",
    "plt.xlabel('Electricity Production [MWh]')\n",
    "plt.ylabel('Price [€/MWh]')\n",
    "\n",
    "plt.legend()\n",
    "plt.show()"
   ]
  },
  {
   "cell_type": "markdown",
   "id": "ed385b21-6bd3-4fbc-8dbf-28bc6a0ccb6d",
   "metadata": {},
   "source": [
    "### Pumped-Storage Hydro Does Arbitrage in Time\n",
    "Sort of an outlier: Pumped-Hydro does arbitrage in time by using electricity in times of low prices to pump water up and then releasing it in times of high prices to make a profit.\n",
    "Hence, the regression line has a positive slope."
   ]
  },
  {
   "cell_type": "code",
   "execution_count": null,
   "id": "d8c6958f-7397-44b6-b0d1-65850d40045a",
   "metadata": {},
   "outputs": [],
   "source": [
    "X = combined['Pumped-Storage Hydro'].to_numpy().reshape(-1,1)\n",
    "y = combined['Price'].to_numpy()\n",
    "\n",
    "reg = LinearRegression()\n",
    "reg.fit(X, y)\n",
    "\n",
    "m = reg.coef_\n",
    "b = reg.intercept_\n",
    "\n",
    "plt.figure(figsize=(10,5))\n",
    "\n",
    "plt.plot(X, y, 'o', ms=5, alpha=0.7)\n",
    "plt.plot(X, m*X + b, 'r')\n",
    "\n",
    "plt.xlabel('Pumped-Storage Hydro Electricity Generation [MWh]')\n",
    "plt.ylabel('Price [€/MWh]')\n",
    "\n",
    "# plt.tight_layout()\n",
    "# plt.savefig('regression_test.pdf')\n",
    "plt.show()"
   ]
  },
  {
   "cell_type": "code",
   "execution_count": null,
   "id": "5da8c3fd-452b-4618-bd20-773936068e61",
   "metadata": {},
   "outputs": [],
   "source": []
  }
 ],
 "metadata": {
  "interpreter": {
   "hash": "c17e3b9b9cd7fdadaa2daa4f714a9f3ea28c9f4f3ceeac1593581b106bddb1a9"
  },
  "kernelspec": {
   "display_name": "Python [conda env:data-literacy]",
   "language": "python",
   "name": "python3"
  },
  "language_info": {
   "codemirror_mode": {
    "name": "ipython",
    "version": 3
   },
   "file_extension": ".py",
   "mimetype": "text/x-python",
   "name": "python",
   "nbconvert_exporter": "python",
   "pygments_lexer": "ipython3",
   "version": "3.8.12"
  }
 },
 "nbformat": 4,
 "nbformat_minor": 5
}
