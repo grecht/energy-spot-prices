{
 "cells": [
  {
   "cell_type": "code",
   "execution_count": null,
   "id": "f848d75a-7fe0-4733-9144-5b82944576ad",
   "metadata": {},
   "outputs": [],
   "source": [
    "import pandas as pd\n",
    "from sklearn.linear_model import LinearRegression\n",
    "from tueplots import bundles\n",
    "import matplotlib.pyplot as plt\n",
    "import re\n",
    "import os"
   ]
  },
  {
   "cell_type": "code",
   "execution_count": null,
   "id": "ebb9a1b7-1504-4cd1-83c5-b7855be9a020",
   "metadata": {},
   "outputs": [],
   "source": [
    "plt.rcParams.update(bundles.neurips2021())"
   ]
  },
  {
   "cell_type": "code",
   "execution_count": null,
   "id": "8a299656-6f8e-4342-b830-2b5d1ab446e7",
   "metadata": {},
   "outputs": [],
   "source": [
    "dat_src = r'../dat/bundesnetzagentur/pre_processed_data/prod_price_de_lu_2019_2021.csv'\n",
    "fig_src = r'../doc/fig/'"
   ]
  },
  {
   "cell_type": "code",
   "execution_count": null,
   "id": "ea33b87c-c3c9-4e1c-a3da-eba5d93b2699",
   "metadata": {},
   "outputs": [],
   "source": [
    "combined = pd.read_csv(dat_src,\n",
    "                       parse_dates=['time'])\n",
    "combined = combined.set_index('time')\n",
    "combined = combined.dropna()"
   ]
  },
  {
   "cell_type": "code",
   "execution_count": null,
   "id": "a42e4a50-6980-4612-8768-a364268bc59e",
   "metadata": {},
   "outputs": [],
   "source": [
    "def to_tex(text):\n",
    "    \"\"\"\n",
    "    Helper function to prepare string for latex.\n",
    "    \"\"\"\n",
    "    conv = {\n",
    "        '&': r'\\&',\n",
    "        '%': r'\\%',\n",
    "        '$': r'\\$',\n",
    "        \n",
    "        '#': r'\\#',\n",
    "        '_': r'\\_',\n",
    "        '{': r'\\{',\n",
    "        '}': r'\\}',\n",
    "        '~': r'\\textasciitilde{}',\n",
    "        '^': r'\\^{}',\n",
    "        '\\\\': r'\\textbackslash{}',\n",
    "        '<': r'\\textless{}',\n",
    "        '>': r'\\textgreater{}',\n",
    "    }\n",
    "    regex = re.compile('|'.join(re.escape(str(key)) for key in sorted(conv.keys(), key = lambda item: - len(item))))\n",
    "    return regex.sub(lambda match: conv[match.group()], text)"
   ]
  },
  {
   "cell_type": "code",
   "execution_count": null,
   "id": "54435560-4d70-408c-9f88-bc038d9184a3",
   "metadata": {},
   "outputs": [],
   "source": [
    "combined.columns"
   ]
  },
  {
   "cell_type": "code",
   "execution_count": null,
   "id": "3c1763c1-624a-49ce-8e26-ba34e6a38aff",
   "metadata": {},
   "outputs": [],
   "source": [
    "# define consistent colors for technologies\n",
    "tech_colors = {\n",
    "    'Biomass': '009632ff',\n",
    "    'Nuclear': 'ff0000ff',\n",
    "    'Brown Coal': '967d64ff',\n",
    "    'Black Coal': '323232ff',\n",
    "    'Natural Gas': 'fa964bff',\n",
    "    'Pumped-Storage Hydro': '0096e1ff',\n",
    "    'Wind': 'afc4a5ff',\n",
    "    'Offshore Wind': '',\n",
    "    'Onshore Wind': '',\n",
    "    'Solar': 'ffcd64ff',\n",
    "    'Hydropower': '0000c8ff',\n",
    "    # 'Renewable': 'tab:olive',\n",
    "    # 'Conventional': 'tab:brown'\n",
    "}"
   ]
  },
  {
   "cell_type": "markdown",
   "id": "e008f8ed-7d03-4c71-b768-ee122da0dce4",
   "metadata": {},
   "source": [
    "# Regression"
   ]
  },
  {
   "cell_type": "code",
   "execution_count": null,
   "id": "d70b388c-deb4-4ff7-bbca-0d12d2d6c211",
   "metadata": {},
   "outputs": [],
   "source": [
    "cols = [('Solar', 'tab:orange'), ('Wind', 'tab:blue'), ('Solar & Wind', 'tab:green')]\n",
    "\n",
    "fig, axs = plt.subplots(1, 3, figsize=(12,3), sharey=True) # figsize=(16,4), \n",
    "\n",
    "axs[0].set_ylabel('Price [€/MWh]')\n",
    "\n",
    "# tmp = combined.sample(15000)\n",
    "\n",
    "for i in range(0, len(axs)):\n",
    "    col, color = cols[i]\n",
    "    ax  = axs[i]\n",
    "    \n",
    "    X = combined[col].to_numpy().reshape(-1,1)\n",
    "    y = combined['Price'].to_numpy()\n",
    "\n",
    "    reg = LinearRegression()\n",
    "    reg.fit(X, y)\n",
    "\n",
    "    m = reg.coef_\n",
    "    b = reg.intercept_\n",
    "    \n",
    "    ax.plot(X, y, 'o', color=color, ms=1, alpha=0.5)\n",
    "    ax.plot(X, m*X + b, 'black')\n",
    "\n",
    "    ax.set_xlabel(f'{to_tex(col)} Generation [MWh]')\n",
    "\n",
    "plt.savefig(os.path.join(fig_src, 'solar_wind_regression.pdf'))"
   ]
  },
  {
   "cell_type": "markdown",
   "id": "1bbe2f9b-8069-44c2-b509-8aa98540e647",
   "metadata": {},
   "source": [
    "## Comparison of Renewable and Conventional"
   ]
  },
  {
   "cell_type": "code",
   "execution_count": null,
   "id": "8830d7e5-9fff-485e-adaf-02bed15018ff",
   "metadata": {},
   "outputs": [],
   "source": [
    "renewable = ['Biomass', \n",
    "             'Hydropower', \n",
    "             'Offshore Wind', \n",
    "             'Onshore Wind', \n",
    "             'Solar', \n",
    "             'Other Renewables']\n",
    "conventional = ['Nuclear', \n",
    "                'Brown Coal', \n",
    "                'Black Coal',\n",
    "                'Natural Gas',\n",
    "                'Other Conventional Sources']\n",
    "\n",
    "con_ren                 = combined.copy() # .resample('D').mean()\n",
    "con_ren['Conventional'] = con_ren.loc[:, conventional].sum(axis=1)\n",
    "con_ren['Renewable']    = con_ren.loc[:, renewable].sum(axis=1)\n",
    "con_ren                 = con_ren.filter(['Conventional', 'Renewable', 'Price'])\n",
    "con_ren['Total']        = con_ren.loc[:, ('Conventional', 'Renewable')].sum(axis=1)"
   ]
  },
  {
   "cell_type": "code",
   "execution_count": null,
   "id": "10ec3f4a-3c8d-460b-8eed-3e1f301dba64",
   "metadata": {},
   "outputs": [],
   "source": [
    "X_con = con_ren['Conventional'].to_numpy().reshape(-1,1)\n",
    "X_ren = con_ren['Renewable'].to_numpy().reshape(-1,1)\n",
    "y     = con_ren['Price']\n",
    "\n",
    "reg_con = LinearRegression()\n",
    "reg_ren = LinearRegression()\n",
    "\n",
    "reg_con.fit(X_con, y)\n",
    "reg_ren.fit(X_ren, y)\n",
    "\n",
    "m_con, b_con = reg_con.coef_, reg_con.intercept_\n",
    "m_ren, b_ren = reg_ren.coef_, reg_ren.intercept_\n",
    "\n",
    "plt.figure(figsize=(5,3))\n",
    "\n",
    "ren_color = 'tab:olive'\n",
    "con_color = 'tab:purple'\n",
    "\n",
    "plt.plot(X_ren, y, 'o', label='Renewable', color=ren_color, ms=3, alpha=0.4)\n",
    "plt.plot(X_con, y, 'o', label='Conventional', color=con_color, ms=3, alpha=0.4)\n",
    "\n",
    "plt.plot(X_ren, m_ren * X_ren + b_ren, 'black', label='Regression Line (Renewable)', linewidth=2)\n",
    "plt.plot(X_con, m_con * X_con + b_con, 'black', label='Regression Line (Conventional)', linewidth=2, linestyle='dotted')\n",
    "\n",
    "plt.xlabel('Electricity Generation [MWh]')\n",
    "plt.ylabel('Price [€/MWh]')\n",
    "\n",
    "plt.legend(loc='upper right', ncol=2)\n",
    "plt.savefig(os.path.join(fig_src, 'ren_vs_con_regression.pdf'))\n",
    "plt.show()"
   ]
  },
  {
   "cell_type": "markdown",
   "id": "32e58ef8-29c2-4a20-b447-d7f92b30bc73",
   "metadata": {},
   "source": [
    "# Pumped-Storage Hydro"
   ]
  },
  {
   "cell_type": "code",
   "execution_count": null,
   "id": "eedd32cf-bd7b-4a17-8a1c-1547ff10140a",
   "metadata": {},
   "outputs": [],
   "source": [
    "X = combined['Pumped-Storage Hydro'].to_numpy().reshape(-1,1)\n",
    "y = combined['Price'].to_numpy()\n",
    "\n",
    "reg = LinearRegression()\n",
    "reg.fit(X, y)\n",
    "\n",
    "m = reg.coef_\n",
    "b = reg.intercept_\n",
    "\n",
    "plt.figure(figsize=(5,3))\n",
    "\n",
    "plt.plot(X, y, 'o', color='tab:cyan', ms=3, alpha=0.4)\n",
    "plt.plot(X, m*X + b, 'black', linewidth=2)\n",
    "\n",
    "plt.xlabel('Pumped-Storage Hydro Generation [MWh]')\n",
    "plt.ylabel('Price [€/MWh]')\n",
    "\n",
    "plt.savefig(os.path.join(fig_src, 'pumped_hydro_regression.pdf'))"
   ]
  },
  {
   "cell_type": "markdown",
   "id": "1d1100c3",
   "metadata": {},
   "source": [
    "# Quarterly Technology Mix with price"
   ]
  },
  {
   "cell_type": "code",
   "execution_count": null,
   "id": "31e4e623-276f-400f-9f44-a621373e9d90",
   "metadata": {},
   "outputs": [],
   "source": [
    "quarterly       = combined.resample('3M').mean()\n",
    "quarterly.index = pd.to_datetime(quarterly.index.date)\n",
    "quarterly       = quarterly.loc[:'2021']\n",
    "quarterly       = quarterly.rename(columns={'Other Conventional Sources': 'Other Conventionals'})\n",
    "\n",
    "price = quarterly['Price']\n",
    "quarterly = quarterly.drop(columns=['Price', 'Solar & Wind', 'Wind'])\n",
    "\n",
    "width = 40\n",
    "columns = list(quarterly)\n",
    "\n",
    "fig, ax = plt.subplots(figsize=(9, 7))\n",
    "ax2 = ax.twinx()\n",
    "\n",
    "for i, col in enumerate(columns):\n",
    "    ax.bar(quarterly.index, quarterly[col], width=width, bottom=quarterly[columns[0:i]].sum(axis=1))\n",
    "\n",
    "ax2.plot(price,\n",
    "         color='k',\n",
    "         linewidth=2, \n",
    "         marker='o')\n",
    "\n",
    "ax.set_xlabel('Date')\n",
    "\n",
    "ax.set_ylabel('Electricity Generation [MWh]')\n",
    "ax2.set_ylabel('Price [€/MWh]')\n",
    "\n",
    "ax.legend(list(quarterly), ncol=4, loc='upper center',bbox_to_anchor=(0., 1.03, 1., .102))\n",
    "ax2.legend(['Price'], loc='upper center')\n",
    "\n",
    "x_labels = ['2019 Q1', '2019 Q2', '2019 Q3', '2019 Q4',\n",
    "           '2020 Q1', '2020 Q2', '2020 Q3', '2020 Q4',\n",
    "           '2021 Q1', '2021 Q2', '2021 Q3', '2021 Q4']\n",
    "\n",
    "plt.xticks(quarterly.index)\n",
    "ax.set_xticklabels(x_labels)\n",
    "\n",
    "for tick in ax.xaxis.get_major_ticks()[::2]:\n",
    "    tick.set_pad(15)\n",
    "\n",
    "plt.tight_layout()\n",
    "plt.savefig(os.path.join(fig_src, 'quarterly_technology_mix_with_price.pdf'))\n",
    "plt.show()"
   ]
  }
 ],
 "metadata": {
  "kernelspec": {
   "display_name": "Python 3",
   "language": "python",
   "name": "python3"
  },
  "language_info": {
   "codemirror_mode": {
    "name": "ipython",
    "version": 3
   },
   "file_extension": ".py",
   "mimetype": "text/x-python",
   "name": "python",
   "nbconvert_exporter": "python",
   "pygments_lexer": "ipython3",
   "version": "3.8.8"
  }
 },
 "nbformat": 4,
 "nbformat_minor": 5
}
