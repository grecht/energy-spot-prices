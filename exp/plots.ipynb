{
 "cells": [
  {
   "cell_type": "code",
   "execution_count": null,
   "id": "bc0e661a",
   "metadata": {},
   "outputs": [],
   "source": [
    "import pandas as pd\n",
    "from sklearn.linear_model import LinearRegression\n",
    "from tueplots import bundles\n",
    "import matplotlib.pyplot as plt\n",
    "from matplotlib.lines import Line2D\n",
    "import re\n",
    "import os"
   ]
  },
  {
   "cell_type": "code",
   "execution_count": null,
   "id": "02ea58d6",
   "metadata": {},
   "outputs": [],
   "source": [
    "plt.rcParams.update(bundles.neurips2021())"
   ]
  },
  {
   "cell_type": "code",
   "execution_count": null,
   "id": "607f6f84",
   "metadata": {},
   "outputs": [],
   "source": [
    "dat_src = r'../dat/bundesnetzagentur/pre_processed_data/prod_price_de_lu_2019_2021.csv'\n",
    "fig_src = r'../doc/fig/'"
   ]
  },
  {
   "cell_type": "code",
   "execution_count": null,
   "id": "c10923ef",
   "metadata": {},
   "outputs": [],
   "source": [
    "combined = pd.read_csv(dat_src,\n",
    "                       parse_dates=['time'])\n",
    "combined = combined.set_index('time')\n",
    "combined = combined.dropna()"
   ]
  },
  {
   "cell_type": "code",
   "execution_count": null,
   "id": "09a8a6da",
   "metadata": {},
   "outputs": [],
   "source": [
    "def to_tex(text):\n",
    "    \"\"\"\n",
    "    Helper function to prepare string for latex.\n",
    "    \"\"\"\n",
    "    conv = {\n",
    "        '&': r'\\&',\n",
    "        '%': r'\\%',\n",
    "        '$': r'\\$',\n",
    "        \n",
    "        '#': r'\\#',\n",
    "        '_': r'\\_',\n",
    "        '{': r'\\{',\n",
    "        '}': r'\\}',\n",
    "        '~': r'\\textasciitilde{}',\n",
    "        '^': r'\\^{}',\n",
    "        '\\\\': r'\\textbackslash{}',\n",
    "        '<': r'\\textless{}',\n",
    "        '>': r'\\textgreater{}',\n",
    "    }\n",
    "    regex = re.compile('|'.join(re.escape(str(key)) for key in sorted(conv.keys(), key = lambda item: - len(item))))\n",
    "    return regex.sub(lambda match: conv[match.group()], text)"
   ]
  },
  {
   "cell_type": "code",
   "execution_count": null,
   "id": "f1122aa7",
   "metadata": {},
   "outputs": [],
   "source": [
    "combined.columns"
   ]
  },
  {
   "cell_type": "code",
   "execution_count": null,
   "id": "0b8324b3",
   "metadata": {},
   "outputs": [],
   "source": [
    "# define consistent colors for technologies\n",
    "tech_colors = {\n",
    "    'Biomass': '009632ff',\n",
    "    'Nuclear': 'ff0000ff',\n",
    "    'Brown Coal': '967d64ff',\n",
    "    'Black Coal': '323232ff',\n",
    "    'Natural Gas': 'fa964bff',\n",
    "    'Pumped-Storage Hydro': '0096e1ff',\n",
    "    'Wind': 'afc4a5ff',\n",
    "    'Offshore Wind': '',\n",
    "    'Onshore Wind': '',\n",
    "    'Solar': 'ffcd64ff',\n",
    "    'Hydropower': '0000c8ff',\n",
    "    # 'Renewable': 'tab:olive',\n",
    "    # 'Conventional': 'tab:brown'\n",
    "}"
   ]
  },
  {
   "cell_type": "markdown",
   "id": "0f0bbec6",
   "metadata": {},
   "source": [
    "# Regression"
   ]
  },
  {
   "cell_type": "code",
   "execution_count": null,
   "id": "435f3117",
   "metadata": {},
   "outputs": [],
   "source": [
    "cols = [('Solar', 'tab:orange'), ('Wind', 'tab:blue'), ('Solar & Wind', 'tab:green')]\n",
    "\n",
    "fig, axs = plt.subplots(1, 3, figsize=(12,3), sharey=True) # figsize=(16,4), \n",
    "\n",
    "axs[0].set_ylabel('Price [€/MWh]')\n",
    "\n",
    "# tmp = combined.sample(15000)\n",
    "\n",
    "for i in range(0, len(axs)):\n",
    "    col, color = cols[i]\n",
    "    ax  = axs[i]\n",
    "    \n",
    "    X = combined[col].to_numpy().reshape(-1,1)\n",
    "    y = combined['Price'].to_numpy()\n",
    "\n",
    "    reg = LinearRegression()\n",
    "    reg.fit(X, y)\n",
    "\n",
    "    m = reg.coef_\n",
    "    b = reg.intercept_\n",
    "    \n",
    "    ax.plot(X, y, 'o', color=color, ms=1, alpha=0.5)\n",
    "    ax.plot(X, m*X + b, 'black')\n",
    "\n",
    "    ax.set_xlabel(f'{to_tex(col)} Generation [MWh]')\n",
    "\n",
    "plt.savefig(os.path.join(fig_src, 'solar_wind_regression.pdf'))"
   ]
  },
  {
   "cell_type": "markdown",
   "id": "e63e24db",
   "metadata": {},
   "source": [
    "## Comparison of Renewable and Conventional"
   ]
  },
  {
   "cell_type": "code",
   "execution_count": null,
   "id": "40462236",
   "metadata": {},
   "outputs": [],
   "source": [
    "renewable = ['Biomass', \n",
    "             'Hydropower', \n",
    "             'Offshore Wind', \n",
    "             'Onshore Wind', \n",
    "             'Solar', \n",
    "             'Other Renewables']\n",
    "conventional = ['Nuclear', \n",
    "                'Brown Coal', \n",
    "                'Black Coal',\n",
    "                'Natural Gas',\n",
    "                'Other Conventional Sources']\n",
    "\n",
    "con_ren                 = combined.copy() # .resample('D').mean()\n",
    "con_ren['Conventional'] = con_ren.loc[:, conventional].sum(axis=1)\n",
    "con_ren['Renewable']    = con_ren.loc[:, renewable].sum(axis=1)\n",
    "con_ren                 = con_ren.filter(['Conventional', 'Renewable', 'Price'])\n",
    "con_ren['Total']        = con_ren.loc[:, ('Conventional', 'Renewable')].sum(axis=1)"
   ]
  },
  {
   "cell_type": "code",
   "execution_count": null,
   "id": "09aa3434",
   "metadata": {},
   "outputs": [],
   "source": [
    "X_con = con_ren['Conventional'].to_numpy()\n",
    "X_ren = con_ren['Renewable'].to_numpy()\n",
    "y     = con_ren['Price']\n",
    "\n",
    "reg_con = LinearRegression()\n",
    "reg_ren = LinearRegression()\n",
    "\n",
    "reg_con.fit(X_con.reshape(-1,1), y)\n",
    "reg_ren.fit(X_ren.reshape(-1,1), y)\n",
    "\n",
    "m_con, b_con = reg_con.coef_, reg_con.intercept_\n",
    "m_ren, b_ren = reg_ren.coef_, reg_ren.intercept_\n",
    "\n",
    "fig, ax = plt.subplots()\n",
    "\n",
    "mincnt = 1\n",
    "gridsize = 50\n",
    "\n",
    "hb_ren = plt.hexbin(X_ren,\n",
    "                    y,\n",
    "                    gridsize=gridsize,\n",
    "                    cmap='Greens',\n",
    "                    mincnt=mincnt,\n",
    "                    bins='log',\n",
    "                    vmin=mincnt,\n",
    "                    vmax=gridsize)\n",
    "hb_con = plt.hexbin(X_con,\n",
    "                    y,\n",
    "                    gridsize=gridsize,\n",
    "                    cmap='Purples',\n",
    "                    mincnt=mincnt,\n",
    "                    bins='log',\n",
    "                    vmin=mincnt,\n",
    "                    vmax=gridsize)\n",
    "\n",
    "plt.plot(X_ren, m_ren * X_ren + b_ren, 'tab:red', label='Regression Line (Renewable)', linewidth=2)\n",
    "plt.plot(X_con, m_con * X_con + b_con, 'tab:red', label='Regression Line (Conventional)', linewidth=2, linestyle='dotted')\n",
    "\n",
    "plt.xlabel('Electricity Generation [MWh]')\n",
    "plt.ylabel('Price [€/MWh]')\n",
    "\n",
    "# fig.colorbar(hb_ren)\n",
    "# fig.colorbar(hb_con, label='log10(N)')\n",
    "\n",
    "legend_elements = [Line2D([0], [0], marker='H', color='w', label='Hexbin (Renewable)',\n",
    "                          markerfacecolor='tab:green', markersize=10),\n",
    "                   Line2D([0], [0], color='tab:red', label='Regression Line (Renewable)'),\n",
    "                   Line2D([0], [0], marker='H', color='w', label='Hexbin (Conventional)',\n",
    "                          markerfacecolor='tab:purple', markersize=10),\n",
    "                   Line2D([0], [0], color='tab:red', label='Regression Line (Conventional)', linestyle='dotted')]\n",
    "\n",
    "plt.legend(loc='upper right', ncol=2, handles=legend_elements)\n",
    "plt.savefig(os.path.join(fig_src, 'ren_vs_con_regression.pdf'))\n",
    "plt.show()"
   ]
  },
  {
   "cell_type": "markdown",
   "id": "73b4f792",
   "metadata": {},
   "source": [
    "# Pumped-Storage Hydro"
   ]
  },
  {
   "cell_type": "code",
   "execution_count": null,
   "id": "dc4e1a49",
   "metadata": {},
   "outputs": [],
   "source": [
    "X = combined['Pumped-Storage Hydro'].to_numpy()\n",
    "y = combined['Price'].to_numpy()\n",
    "\n",
    "reg = LinearRegression()\n",
    "reg.fit(X.reshape(-1,1), y)\n",
    "\n",
    "m = reg.coef_\n",
    "b = reg.intercept_\n",
    "\n",
    "fig = plt.figure()\n",
    "\n",
    "hb = plt.hexbin(X, y, gridsize=50, bins='log', cmap='Blues', mincnt=1, vmin=1, vmax=50)\n",
    "plt.plot(X, m*X + b, 'tab:red', linewidth=2, label='Regression Line')\n",
    "\n",
    "# fig.colorbar(hb, label='log10(N)')\n",
    "\n",
    "plt.xlabel('Pumped-Storage Hydro Generation [MWh]')\n",
    "plt.ylabel('Price [€/MWh]')\n",
    "\n",
    "# plt.legend()\n",
    "\n",
    "plt.savefig(os.path.join(fig_src, 'pumped_hydro_regression.pdf'))"
   ]
  },
  {
   "cell_type": "markdown",
   "id": "092b2168",
   "metadata": {},
   "source": [
    "# Quarterly Technology Mix with price"
   ]
  },
  {
   "cell_type": "code",
   "execution_count": null,
   "id": "efb77dec",
   "metadata": {},
   "outputs": [],
   "source": [
    "quarterly       = combined.resample('3M').mean()\n",
    "quarterly.index = pd.to_datetime(quarterly.index.date)\n",
    "quarterly       = quarterly.loc[:'2021']\n",
    "quarterly       = quarterly.rename(columns={'Other Conventional Sources': 'Other Conventionals'})\n",
    "\n",
    "price = quarterly['Price']\n",
    "quarterly = quarterly.drop(columns=['Price', 'Solar & Wind', 'Wind'])\n",
    "\n",
    "width = 40\n",
    "columns = list(quarterly)\n",
    "\n",
    "fig, ax = plt.subplots(figsize=(9, 7))\n",
    "ax2 = ax.twinx()\n",
    "\n",
    "for i, col in enumerate(columns):\n",
    "    ax.bar(quarterly.index, quarterly[col], width=width, bottom=quarterly[columns[0:i]].sum(axis=1))\n",
    "\n",
    "ax2.plot(price,\n",
    "         color='k',\n",
    "         linewidth=2, \n",
    "         marker='o')\n",
    "\n",
    "ax.set_xlabel('Date')\n",
    "\n",
    "ax.set_ylabel('Electricity Generation [MWh]')\n",
    "ax2.set_ylabel('Price [€/MWh]')\n",
    "\n",
    "ax.legend(list(quarterly), ncol=4, loc='upper center',bbox_to_anchor=(0., 1.03, 1., .102))\n",
    "ax2.legend(['Price'], loc='upper center')\n",
    "\n",
    "x_labels = ['2019 Q1', '2019 Q2', '2019 Q3', '2019 Q4',\n",
    "           '2020 Q1', '2020 Q2', '2020 Q3', '2020 Q4',\n",
    "           '2021 Q1', '2021 Q2', '2021 Q3', '2021 Q4']\n",
    "\n",
    "plt.xticks(quarterly.index)\n",
    "ax.set_xticklabels(x_labels)\n",
    "\n",
    "for tick in ax.xaxis.get_major_ticks()[::2]:\n",
    "    tick.set_pad(15)\n",
    "\n",
    "plt.tight_layout()\n",
    "plt.savefig(os.path.join(fig_src, 'quarterly_technology_mix_with_price.pdf'))\n",
    "plt.show()"
   ]
  }
 ],
 "metadata": {
  "kernelspec": {
   "display_name": "Python 3",
   "language": "python",
   "name": "python3"
  },
  "language_info": {
   "codemirror_mode": {
    "name": "ipython",
    "version": 3
   },
   "file_extension": ".py",
   "mimetype": "text/x-python",
   "name": "python",
   "nbconvert_exporter": "python",
   "pygments_lexer": "ipython3",
   "version": "3.7.6"
  }
 },
 "nbformat": 4,
 "nbformat_minor": 5
}
