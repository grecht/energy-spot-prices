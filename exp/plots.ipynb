{
 "cells": [
  {
   "cell_type": "code",
   "execution_count": null,
   "metadata": {},
   "outputs": [],
   "source": [
    "import pandas as pd\n",
    "from sklearn.linear_model import LinearRegression\n",
    "from tueplots import bundles, figsizes\n",
    "import matplotlib.pyplot as plt\n",
    "from matplotlib.lines import Line2D\n",
    "import re\n",
    "import os"
   ]
  },
  {
   "cell_type": "code",
   "execution_count": null,
   "metadata": {},
   "outputs": [],
   "source": [
    "plt.rcParams.update(bundles.neurips2021())"
   ]
  },
  {
   "cell_type": "code",
   "execution_count": null,
   "metadata": {},
   "outputs": [],
   "source": [
    "dat_src = r'../dat/bundesnetzagentur/pre_processed_data/prod_price_de_lu_2019_2021.csv'\n",
    "fig_src = r'../doc/fig/'"
   ]
  },
  {
   "cell_type": "code",
   "execution_count": null,
   "metadata": {},
   "outputs": [],
   "source": [
    "combined = pd.read_csv(dat_src,\n",
    "                       parse_dates=['time'])\n",
    "combined = combined.set_index('time')\n",
    "combined = combined.dropna()"
   ]
  },
  {
   "cell_type": "code",
   "execution_count": null,
   "metadata": {},
   "outputs": [],
   "source": [
    "def to_tex(text):\n",
    "    \"\"\"\n",
    "    Helper function to prepare string for latex.\n",
    "    \"\"\"\n",
    "    conv = {\n",
    "        '&': r'\\&',\n",
    "        '%': r'\\%',\n",
    "        '$': r'\\$',\n",
    "        \n",
    "        '#': r'\\#',\n",
    "        '_': r'\\_',\n",
    "        '{': r'\\{',\n",
    "        '}': r'\\}',\n",
    "        '~': r'\\textasciitilde{}',\n",
    "        '^': r'\\^{}',\n",
    "        '\\\\': r'\\textbackslash{}',\n",
    "        '<': r'\\textless{}',\n",
    "        '>': r'\\textgreater{}',\n",
    "    }\n",
    "    regex = re.compile('|'.join(re.escape(str(key)) for key in sorted(conv.keys(), key = lambda item: - len(item))))\n",
    "    return regex.sub(lambda match: conv[match.group()], text)"
   ]
  },
  {
   "cell_type": "code",
   "execution_count": null,
   "metadata": {},
   "outputs": [],
   "source": [
    "# define consistent colors for technologies\n",
    "tech_colors = {\n",
    "    'Biomass': '009632ff',\n",
    "    'Nuclear': 'ff0000ff',\n",
    "    'Brown Coal': '967d64ff',\n",
    "    'Black Coal': '323232ff',\n",
    "    'Natural Gas': 'fa964bff',\n",
    "    'Pumped-Storage Hydro': '0096e1ff',\n",
    "    'Wind': 'afc4a5ff',\n",
    "    'Offshore Wind': '',\n",
    "    'Onshore Wind': '',\n",
    "    'Solar': 'ffcd64ff',\n",
    "    'Hydropower': '0000c8ff',\n",
    "    # 'Renewable': 'tab:olive',\n",
    "    # 'Conventional': 'tab:brown'\n",
    "}"
   ]
  },
  {
   "cell_type": "markdown",
   "metadata": {},
   "source": [
    "# Regression"
   ]
  },
  {
   "cell_type": "code",
   "execution_count": null,
   "metadata": {},
   "outputs": [],
   "source": [
    "cols = [('Solar', 'tab:orange'), ('Wind', 'tab:blue'), ('Solar & Wind', 'tab:green')]\n",
    "\n",
    "fig, axs = plt.subplots(1, 3, figsize=(12,3), sharey=True) # figsize=(16,4), \n",
    "\n",
    "axs[0].set_ylabel('Price [€/MWh]')\n",
    "\n",
    "# tmp = combined.sample(15000)\n",
    "\n",
    "for i in range(0, len(axs)):\n",
    "    col, color = cols[i]\n",
    "    ax  = axs[i]\n",
    "    \n",
    "    X = combined[col].to_numpy().reshape(-1,1)\n",
    "    y = combined['Price'].to_numpy()\n",
    "\n",
    "    reg = LinearRegression()\n",
    "    reg.fit(X, y)\n",
    "\n",
    "    m = reg.coef_\n",
    "    b = reg.intercept_\n",
    "    \n",
    "    ax.plot(X, y, 'o', color=color, ms=1, alpha=0.5)\n",
    "    ax.plot(X, m*X + b, 'black')\n",
    "\n",
    "    ax.set_xlabel(f'{to_tex(col)} Generation [MWh]')\n",
    "\n",
    "plt.savefig(os.path.join(fig_src, 'solar_wind_regression.pdf'))"
   ]
  },
  {
   "cell_type": "markdown",
   "metadata": {},
   "source": [
    "## Comparison of Renewable and Conventional"
   ]
  },
  {
   "cell_type": "code",
   "execution_count": null,
   "metadata": {},
   "outputs": [],
   "source": [
    "renewable = ['Biomass', \n",
    "             'Hydropower', \n",
    "             'Offshore Wind', \n",
    "             'Onshore Wind', \n",
    "             'Solar', \n",
    "             'Other Renewables']\n",
    "conventional = ['Nuclear', \n",
    "                'Brown Coal', \n",
    "                'Black Coal',\n",
    "                'Natural Gas',\n",
    "                'Other Conventional Sources']\n",
    "\n",
    "con_ren                 = combined.copy() # .resample('D').mean()\n",
    "con_ren['Conventional'] = con_ren.loc[:, conventional].sum(axis=1)\n",
    "con_ren['Renewable']    = con_ren.loc[:, renewable].sum(axis=1)\n",
    "con_ren                 = con_ren.filter(['Conventional', 'Renewable', 'Price'])\n",
    "con_ren['Total']        = con_ren.loc[:, ('Conventional', 'Renewable')].sum(axis=1)"
   ]
  },
  {
   "cell_type": "code",
   "execution_count": null,
   "metadata": {},
   "outputs": [],
   "source": [
    "X_con = con_ren['Conventional'].to_numpy()\n",
    "X_ren = con_ren['Renewable'].to_numpy()\n",
    "y     = con_ren['Price']\n",
    "\n",
    "reg_con = LinearRegression()\n",
    "reg_ren = LinearRegression()\n",
    "\n",
    "reg_con.fit(X_con.reshape(-1,1), y)\n",
    "reg_ren.fit(X_ren.reshape(-1,1), y)\n",
    "\n",
    "m_con, b_con = reg_con.coef_, reg_con.intercept_\n",
    "m_ren, b_ren = reg_ren.coef_, reg_ren.intercept_"
   ]
  },
  {
   "cell_type": "code",
   "execution_count": null,
   "metadata": {},
   "outputs": [],
   "source": [
    "from tueplots import figsizes\n",
    "# 2 rows\n",
    "plt.rcParams.update(figsizes.neurips2021(nrows=2, ncols=1))\n",
    "# 2 columns\n",
    "# plt.rcParams.update(figsizes.neurips2021(nrows=1, ncols=2))"
   ]
  },
  {
   "cell_type": "code",
   "execution_count": null,
   "metadata": {},
   "outputs": [],
   "source": [
    "# 2 rows\n",
    "fig, (ax1, ax2) = plt.subplots(2,1, sharex=True, sharey=True)\n",
    "# 2 columns\n",
    "# fig, (ax1, ax2) = plt.subplots(1,2, sharex=True, sharey=True)\n",
    "\n",
    "mincnt = 1\n",
    "gridsize = 50\n",
    "\n",
    "hb_ren = ax1.hexbin(X_ren,\n",
    "           y,\n",
    "           gridsize=gridsize,\n",
    "           cmap='Greens',\n",
    "           mincnt=mincnt,\n",
    "           bins='log',\n",
    "           vmin=mincnt,\n",
    "           vmax=gridsize)\n",
    "hb_con = ax2.hexbin(X_con,\n",
    "           y,\n",
    "           gridsize=gridsize,\n",
    "           cmap='Purples',\n",
    "           mincnt=mincnt,\n",
    "           bins='log',\n",
    "           vmin=mincnt,\n",
    "           vmax=gridsize)\n",
    "\n",
    "ax1.plot(X_ren, m_ren * X_ren + b_ren, 'tab:red', label='Regression Line (Renewable)', linewidth=2)\n",
    "ax2.plot(X_con, m_con * X_con + b_con, 'tab:red', label='Regression Line (Conventional)', linewidth=2, linestyle='dotted')\n",
    "\n",
    "\n",
    "fig.colorbar(hb_ren, ax=ax1, label='log10(N)')\n",
    "fig.colorbar(hb_con, ax=ax2, label='log10(N)')\n",
    "\n",
    "legend_elements = [Line2D([0], [0], marker='H', color='w', label='Hexbin (Renewable)',\n",
    "                          markerfacecolor='tab:green', markersize=10),\n",
    "                   Line2D([0], [0], color='tab:red', label='Regression Line (Renewable)'),\n",
    "                   Line2D([0], [0], marker='H', color='w', label='Hexbin (Conventional)',\n",
    "                          markerfacecolor='tab:purple', markersize=10),\n",
    "                   Line2D([0], [0], color='tab:red', label='Regression Line (Conventional)', linestyle='dotted')]\n",
    "\n",
    "# 2 rows\n",
    "ax1.set_ylabel('Price [€/MWh]')\n",
    "ax2.set_ylabel('Price [€/MWh]')\n",
    "ax2.set_xlabel('Electricity Generation [MWh]')\n",
    "\n",
    "# 2 columns\n",
    "# ax1.set_xlabel('Electricity Generation [MWh]')\n",
    "# ax2.set_xlabel('Electricity Generation [MWh]')\n",
    "# ax1.set_ylabel('Price [€/MWh]')\n",
    "\n",
    "ax1.grid()\n",
    "ax2.grid()\n",
    "\n",
    "fig.legend(loc='upper center', ncol=2, handles=legend_elements)\n",
    "plt.savefig(os.path.join(fig_src, 'ren_vs_con_regression_separate.pdf'))\n",
    "plt.show()"
   ]
  },
  {
   "cell_type": "code",
   "execution_count": null,
   "metadata": {},
   "outputs": [],
   "source": [
    "fig, ax = plt.subplots()\n",
    "\n",
    "mincnt = 1\n",
    "gridsize = 50\n",
    "\n",
    "hb_ren = plt.hexbin(X_ren,\n",
    "                    y,\n",
    "                    gridsize=gridsize,\n",
    "                    cmap='Greens',\n",
    "                    mincnt=mincnt,\n",
    "                    bins='log',\n",
    "                    vmin=mincnt,\n",
    "                    vmax=gridsize)\n",
    "hb_con = plt.hexbin(X_con,\n",
    "                    y,\n",
    "                    gridsize=gridsize,\n",
    "                    cmap='Purples',\n",
    "                    mincnt=mincnt,\n",
    "                    bins='log',\n",
    "                    vmin=mincnt,\n",
    "                    vmax=gridsize)\n",
    "\n",
    "plt.plot(X_ren, m_ren * X_ren + b_ren, 'tab:red', label='Regression Line (Renewable)', linewidth=2)\n",
    "plt.plot(X_con, m_con * X_con + b_con, 'tab:red', label='Regression Line (Conventional)', linewidth=2, linestyle='dotted')\n",
    "\n",
    "plt.xlabel('Electricity Generation [MWh]')\n",
    "plt.ylabel('Price [€/MWh]')\n",
    "\n",
    "# fig.colorbar(hb_ren)\n",
    "# fig.colorbar(hb_con, label='log10(N)')\n",
    "\n",
    "legend_elements = [Line2D([0], [0], marker='H', color='w', label='Hexbin (Renewable)',\n",
    "                          markerfacecolor='tab:green', markersize=10),\n",
    "                   Line2D([0], [0], color='tab:red', label='Regression Line (Renewable)'),\n",
    "                   Line2D([0], [0], marker='H', color='w', label='Hexbin (Conventional)',\n",
    "                          markerfacecolor='tab:purple', markersize=10),\n",
    "                   Line2D([0], [0], color='tab:red', label='Regression Line (Conventional)', linestyle='dotted')]\n",
    "\n",
    "plt.legend(loc='upper right', ncol=2, handles=legend_elements)\n",
    "plt.savefig(os.path.join(fig_src, 'ren_vs_con_regression.pdf'))\n",
    "plt.show()"
   ]
  },
  {
   "cell_type": "markdown",
   "metadata": {},
   "source": [
    "# Pumped-Storage Hydro"
   ]
  },
  {
   "cell_type": "code",
   "execution_count": null,
   "metadata": {},
   "outputs": [],
   "source": [
    "X = combined['Pumped-Storage Hydro'].to_numpy()\n",
    "y = combined['Price'].to_numpy()\n",
    "\n",
    "reg = LinearRegression()\n",
    "reg.fit(X.reshape(-1,1), y)\n",
    "\n",
    "m = reg.coef_\n",
    "b = reg.intercept_\n",
    "\n",
    "fig = plt.figure()\n",
    "\n",
    "hb = plt.hexbin(X, y, gridsize=50, bins='log', cmap='Blues', mincnt=1, vmin=1, vmax=50)\n",
    "plt.plot(X, m*X + b, 'tab:red', linewidth=2, label='Regression Line')\n",
    "\n",
    "# fig.colorbar(hb, label='log10(N)')\n",
    "\n",
    "plt.xlabel('Pumped-Storage Hydro Generation [MWh]')\n",
    "plt.ylabel('Price [€/MWh]')\n",
    "\n",
    "# plt.legend()\n",
    "\n",
    "plt.savefig(os.path.join(fig_src, 'pumped_hydro_regression.pdf'))"
   ]
  },
  {
   "cell_type": "markdown",
   "metadata": {},
   "source": [
    "# Quarterly Technology Mix with price"
   ]
  },
  {
   "cell_type": "code",
   "execution_count": null,
   "metadata": {},
   "outputs": [],
   "source": [
    "quarterly       = combined.resample('3M').mean()\n",
    "quarterly.index = pd.to_datetime(quarterly.index.date)\n",
    "quarterly       = quarterly.loc[:'2021']\n",
    "quarterly       = quarterly.rename(columns={'Other Conventional Sources': 'Other Conventionals'})\n",
    "\n",
    "price = quarterly['Price']\n",
    "quarterly = quarterly.drop(columns=['Price', 'Solar & Wind', 'Wind'])\n",
    "\n",
    "width = 40\n",
    "columns = list(quarterly)\n",
    "\n",
    "fig, ax = plt.subplots() # figsize=(9, 7)\n",
    "ax2 = ax.twinx()\n",
    "\n",
    "for i, col in enumerate(columns):\n",
    "    ax.bar(quarterly.index, quarterly[col], width=width, bottom=quarterly[columns[0:i]].sum(axis=1))\n",
    "\n",
    "ax2.plot(price,\n",
    "         color='k',\n",
    "         linewidth=2, \n",
    "         marker='o')\n",
    "\n",
    "ax.set_xlabel('Quarter')\n",
    "\n",
    "ax.set_ylabel('Electricity Generation [MWh]')\n",
    "ax2.set_ylabel('Price [€/MWh]')\n",
    "\n",
    "ax.legend(list(quarterly), ncol=4, loc='upper center', bbox_to_anchor=(0.5, 1.22))\n",
    "ax2.legend(['Price'], loc='upper center')\n",
    "\n",
    "x_labels = ['2019 Q1', '2019 Q2', '2019 Q3', '2019 Q4',\n",
    "           '2020 Q1', '2020 Q2', '2020 Q3', '2020 Q4',\n",
    "           '2021 Q1', '2021 Q2', '2021 Q3', '2021 Q4']\n",
    "\n",
    "plt.xticks(quarterly.index)\n",
    "ax.set_xticklabels(x_labels)\n",
    "\n",
    "for tick in ax.xaxis.get_major_ticks()[::2]:\n",
    "    tick.set_pad(15)\n",
    "\n",
    "# plt.tight_layout()\n",
    "\n",
    "plt.savefig(os.path.join(fig_src, 'quarterly_technology_mix_with_price.pdf'))\n",
    "plt.show()"
   ]
  },
  {
   "cell_type": "markdown",
   "metadata": {},
   "source": [
    "# Example Day"
   ]
  },
  {
   "cell_type": "code",
   "execution_count": 39,
   "metadata": {},
   "outputs": [],
   "source": [
    "plt.rcParams.update(figsizes.neurips2021(height_to_width_ratio=0.6))\n",
    "# plt.rcParams.update(figsizes.neurips2021())"
   ]
  },
  {
   "cell_type": "code",
   "execution_count": 44,
   "metadata": {},
   "outputs": [
    {
     "data": {
      "image/png": "[encoded data removed]",
      "text/plain": [
       "<Figure size 396x118.8 with 2 Axes>"
      ]
     },
     "metadata": {
      "needs_background": "light"
     },
     "output_type": "display_data"
    }
   ],
   "source": [
    "# example day\n",
    "df = combined.copy()\n",
    "\n",
    "renewable_cols = ['Biomass', \n",
    "                  'Hydropower', \n",
    "                  'Offshore Wind', \n",
    "                  'Onshore Wind', \n",
    "                  'Solar', \n",
    "                  'Other Renewables']\n",
    "\n",
    "non_renewable_cols = ['Nuclear', \n",
    "                      'Brown Coal', \n",
    "                      'Black Coal',\n",
    "                      'Natural Gas',\n",
    "                      'Other Conventional Sources']\n",
    "\n",
    "df['Total renewable'] = df[renewable_cols].sum(axis=1)\n",
    "df['Total non-renewable'] = df[non_renewable_cols].sum(axis=1)\n",
    "df['Total'] = df[['Total renewable', 'Total non-renewable']].sum(axis=1)\n",
    "\n",
    "df = df[['Total renewable', 'Total non-renewable', 'Total', 'Price']]\n",
    "df['Percentage renewable'] = df['Total renewable'] / df['Total']\n",
    "df['Percentage non-renewable'] = df['Total non-renewable'] / df['Total']\n",
    "\n",
    "percentage_df = df[['Percentage renewable',\n",
    "                    'Percentage non-renewable',\n",
    "                    'Price']]\n",
    "\n",
    "percentage_df = percentage_df.loc['01-03-2021']\n",
    "\n",
    "X = percentage_df.index.hour\n",
    "\n",
    "percentage_renewable = percentage_df['Percentage renewable'].to_numpy()\n",
    "percentage_non_renewable = percentage_df['Percentage non-renewable'].to_numpy() \n",
    "\n",
    "width = 4\n",
    "\n",
    "fig, ax = plt.subplots()\n",
    "ax2 = ax.twinx()\n",
    "\n",
    "ax.set_xlabel('Hour of Day')\n",
    "\n",
    "ax.plot(percentage_df['Percentage renewable'],\n",
    "       color='blue',\n",
    "       linewidth=3,\n",
    "       marker='x')\n",
    "\n",
    "ax2.plot(percentage_df['Price'],\n",
    "         color='k',\n",
    "        linewidth=3, \n",
    "        marker='x')\n",
    "\n",
    "fig.legend(['Renewable Percentage', 'Price'], loc='upper right')\n",
    "\n",
    "ax.set_ylabel('Renewable Percentage\\nof Generation')\n",
    "ax2.set_ylabel('Price [€/MWh]')\n",
    "\n",
    "x_labels = list(range(24))\n",
    "\n",
    "plt.xticks(percentage_df.index)\n",
    "ax.set_xticklabels(x_labels)\n",
    "\n",
    "plt.savefig(os.path.join(fig_src, 'example_day.pdf'))\n",
    "\n",
    "plt.show()"
   ]
  },
  {
   "cell_type": "code",
   "execution_count": null,
   "metadata": {},
   "outputs": [],
   "source": []
  },
  {
   "cell_type": "code",
   "execution_count": null,
   "metadata": {},
   "outputs": [],
   "source": []
  }
 ],
 "metadata": {
  "kernelspec": {
   "display_name": "Python 3",
   "language": "python",
   "name": "python3"
  },
  "language_info": {
   "codemirror_mode": {
    "name": "ipython",
    "version": 3
   },
   "file_extension": ".py",
   "mimetype": "text/x-python",
   "name": "python",
   "nbconvert_exporter": "python",
   "pygments_lexer": "ipython3",
   "version": "3.7.6"
  }
 },
 "nbformat": 4,
 "nbformat_minor": 5
}
