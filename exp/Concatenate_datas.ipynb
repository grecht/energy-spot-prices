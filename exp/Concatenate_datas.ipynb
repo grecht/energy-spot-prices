{
 "cells": [
  {
   "cell_type": "code",
   "execution_count": null,
   "id": "9cb93675",
   "metadata": {},
   "outputs": [],
   "source": [
    "import pandas as pd\n",
    "import numpy as np\n",
    "import matplotlib.pyplot as plt\n",
    "import os"
   ]
  },
  {
   "cell_type": "code",
   "execution_count": null,
   "id": "206866cc",
   "metadata": {},
   "outputs": [],
   "source": [
    "# Concatenate the csv files into a one big csv file containing only the relevant columns.\n",
    "\n",
    "price_paths = []\n",
    "production_paths = []\n",
    "src_path = '../dat/bundesnetzagentur'\n",
    "dst_path = '../dat/bundesnetzagentur/pre_processed_data'\n",
    "\n",
    "# read all files in dictionary 'path'\n",
    "for file in os.listdir(src_path):\n",
    "    if (file.startswith('Grosshandelspreise_')):\n",
    "        price_paths.append(file)\n",
    "    elif (file.startswith('Realisierte_Erzeugung_')):\n",
    "        production_paths.append(file)"
   ]
  },
  {
   "cell_type": "markdown",
   "id": "52c3506f-3a41-420e-b9e8-96f1cc31598c",
   "metadata": {},
   "source": [
    "# Prepare data for bidding zone DE/LU (2019-2021)"
   ]
  },
  {
   "cell_type": "markdown",
   "id": "f49c89b2-caf3-4fcc-99ab-cb924bb1914f",
   "metadata": {},
   "source": [
    "## Extract prices"
   ]
  },
  {
   "cell_type": "code",
   "execution_count": null,
   "id": "d9fdd193-f1fc-4c43-96e5-8b32ebf3c9c5",
   "metadata": {},
   "outputs": [],
   "source": [
    "price_files_2018_2021 = ['Grosshandelspreise_2018_2019.csv',\n",
    "                         'Grosshandelspreise_2020_2021.csv']\n",
    "\n",
    "prices_de_lu = pd.DataFrame()\n",
    "\n",
    "for file in price_files_2018_2021:\n",
    "    df = pd.read_csv(os.path.join(src_path, file),\n",
    "                     delimiter=';',\n",
    "                     # Use European decimal and thousands symbols, directly parse dates\n",
    "                     decimal=',', \n",
    "                     thousands='.',\n",
    "                     # read '-' as np.nan\n",
    "                     na_values=['-'],\n",
    "                     parse_dates=[['Datum', 'Uhrzeit']])\n",
    "    prices_de_lu = prices_de_lu.append(df)\n",
    "    \n",
    "prices_de_lu = prices_de_lu.set_index('Datum_Uhrzeit')\n",
    "prices_de_lu = prices_de_lu.sort_index()\n",
    "\n",
    "# Extract prices from 2019 onwards for bidding zone DE/LU\n",
    "prices_de_lu = prices_de_lu.loc['2019':, 'Deutschland/Luxemburg[€/MWh]']\n",
    "prices_de_lu"
   ]
  },
  {
   "cell_type": "markdown",
   "id": "0f53c16a-6584-41b2-992d-decaa78a2619",
   "metadata": {},
   "source": [
    "## Extract production data"
   ]
  },
  {
   "cell_type": "code",
   "execution_count": null,
   "id": "2ee88c7a-0294-44ae-89cb-d279c33734c2",
   "metadata": {},
   "outputs": [],
   "source": [
    "erzeugung_in_regelzonen = os.path.join(src_path, 'erzeugung_in_regelzonen')\n",
    "prod_files_de_lu = ['Realisierte_Erzeugung_DE_LU_2018-10-01_2019.csv',\n",
    "                    'Realisierte_Erzeugung_DE_LU_2020_2021.csv']\n",
    "\n",
    "prod_de_lu = pd.DataFrame()\n",
    "\n",
    "for file in prod_files_de_lu:\n",
    "    df = pd.read_csv(os.path.join(erzeugung_in_regelzonen, file),\n",
    "                     delimiter=';',\n",
    "                     # Use European decimal and thousands symbols, directly parse dates\n",
    "                     decimal=',', \n",
    "                     thousands='.',\n",
    "                     # read '-' as np.nan\n",
    "                     na_values=['-'],\n",
    "                     parse_dates=[['Datum', 'Uhrzeit']])\n",
    "    prod_de_lu = prod_de_lu.append(df)\n",
    "\n",
    "prod_de_lu = prod_de_lu.set_index('Datum_Uhrzeit')\n",
    "prod_de_lu = prod_de_lu.sort_index()\n",
    "\n",
    "# Extract production from 2019 onwards\n",
    "prod_de_lu = prod_de_lu.loc['2019':]\n",
    "\n",
    "# Resample to hours (same as prices)\n",
    "prod_de_lu = prod_de_lu.resample('H').mean()\n",
    "\n",
    "prod_de_lu"
   ]
  },
  {
   "cell_type": "code",
   "execution_count": null,
   "id": "aae7c9bc-6754-47f2-9edd-48dafc45a734",
   "metadata": {},
   "outputs": [],
   "source": [
    "# Combine onshore and offshore wind\n",
    "prod_de_lu['Wind'] = prod_de_lu.loc[:, ('Wind Offshore[MWh]', 'Wind Onshore[MWh]')].sum(axis=1)"
   ]
  },
  {
   "cell_type": "code",
   "execution_count": null,
   "id": "d841a55d-9840-42f9-9885-684ddefa1b14",
   "metadata": {},
   "outputs": [],
   "source": [
    "combined = prod_de_lu.join(prices_de_lu)"
   ]
  },
  {
   "cell_type": "code",
   "execution_count": null,
   "id": "c000fde8-e6ec-4aa0-94ed-85e871b9e9f7",
   "metadata": {},
   "outputs": [],
   "source": [
    "column_names_map = {\n",
    "    'Biomasse[MWh]': 'Biomass',\n",
    "    'Wasserkraft[MWh]': 'Hydropower',\n",
    "    'Wind Offshore[MWh]': 'Offshore Wind', \n",
    "    'Wind Onshore[MWh]': 'Onshore Wind',\n",
    "    'Photovoltaik[MWh]': 'Solar',\n",
    "    'Sonstige Erneuerbare[MWh]': 'Other Renewables',\n",
    "    'Kernenergie[MWh]': 'Nuclear',\n",
    "    'Braunkohle[MWh]': 'Brown Coal',\n",
    "    'Steinkohle[MWh]': 'Black Coal',\n",
    "    'Erdgas[MWh]': 'Natural Gas',\n",
    "    'Pumpspeicher[MWh]': 'Pumped-Storage Hydro',\n",
    "    'Sonstige Konventionelle[MWh]': 'Other Conventional Sources',\n",
    "    'Deutschland/Luxemburg[€/MWh]': 'Price'\n",
    "}\n",
    "\n",
    "combined = combined.rename(columns=column_names_map)\n",
    "combined['Solar & Wind'] = combined[['Solar', 'Wind']].sum(axis=1)\n",
    "combined.index = combined.index.rename('time')\n",
    "combined"
   ]
  },
  {
   "cell_type": "code",
   "execution_count": null,
   "id": "b9f9da74-eaa8-4436-a07d-0696429578cc",
   "metadata": {},
   "outputs": [],
   "source": [
    "renewable    = ['Biomass',\n",
    "                'Hydropower',\n",
    "                'Wind',\n",
    "                'Solar',\n",
    "                'Other Renewables',\n",
    "                'Pumped-Storage Hydro']\n",
    "\n",
    "# Definition of 'renewable' - does Nuclear count?\n",
    "# combined['Total Renewable'] = combined[renewable].sum(axis=1)\n",
    "# combined\n",
    "# conventional = ['Nuclear', 'Brown Coal']"
   ]
  },
  {
   "cell_type": "code",
   "execution_count": null,
   "id": "e685eb34-09c3-4af6-849c-abe6aec53c90",
   "metadata": {},
   "outputs": [],
   "source": [
    "combined.to_csv(os.path.join(dst_path, 'prod_price_de_lu_2019_2021.csv'))"
   ]
  },
  {
   "cell_type": "markdown",
   "id": "4eb8757f-7c15-43d5-ad36-b68975648996",
   "metadata": {},
   "source": [
    "# Join data"
   ]
  },
  {
   "cell_type": "code",
   "execution_count": null,
   "id": "cb5715ce",
   "metadata": {},
   "outputs": [],
   "source": [
    "# Price\n",
    "\n",
    "# The price zones seem to have changed on 1.10.2018\n",
    "# DE/AT/LU till 30.9.2018, DE/LU from 1.10.2018 onwards\n",
    "\n",
    "price_cols = ['Datum_Uhrzeit', 'Deutschland/Luxemburg[€/MWh]']\n",
    "price_list = []\n",
    "for file in price_paths:\n",
    "    df = pd.read_csv(src_path+'/'+file,\n",
    "                     delimiter=';',\n",
    "                     decimal=',', \n",
    "                     thousands='.',\n",
    "                     parse_dates=[['Datum', 'Uhrzeit']])\n",
    "    df = df[price_cols].values.tolist()\n",
    "    price_list += df\n",
    "\n",
    "price_df = pd.DataFrame(price_list, columns=[price_cols])\n",
    "price_df = price_df.rename(columns={'Deutschland/Luxemburg[€/MWh]': 'Preis[€/MWh]'})\n",
    "\n",
    "price_df.to_csv(dst_path+'/Grosshandelspreise_2015_2021.csv', sep=';', index=False)"
   ]
  },
  {
   "cell_type": "code",
   "execution_count": null,
   "id": "29a4085e",
   "metadata": {},
   "outputs": [],
   "source": [
    "# Production\n",
    "\n",
    "production_cols = ['Datum_Uhrzeit', \n",
    "                   'Wasserkraft[MWh]', \n",
    "                   'Wind Offshore[MWh]', \n",
    "                   'Wind Onshore[MWh]', \n",
    "                   'Photovoltaik[MWh]', \n",
    "                   'Sonstige Erneuerbare[MWh]']\n",
    "\n",
    "production_list = []\n",
    "\n",
    "for file in production_paths:\n",
    "    df = pd.read_csv(src_path+'/'+file, \n",
    "                     delimiter=';', \n",
    "                     decimal=',',\n",
    "                     thousands='.',\n",
    "                     parse_dates=[['Datum', 'Uhrzeit']])\n",
    "    df = df[production_cols].values.tolist()\n",
    "    production_list += df\n",
    "\n",
    "production_df = pd.DataFrame(production_list, columns=[production_cols])\n",
    "\n",
    "sum_cols = production_cols\n",
    "sum_cols.remove('Datum_Uhrzeit')\n",
    "\n",
    "production_df['Total[MWh]'] = production_df[sum_cols].sum(axis=1)\n",
    "\n",
    "production_df.to_csv(dst_path+'/Realisierte_Erzeugung_2015_2021.csv', sep=';', index=False)"
   ]
  }
 ],
 "metadata": {
  "kernelspec": {
   "display_name": "Python 3 (ipykernel)",
   "language": "python",
   "name": "python3"
  },
  "language_info": {
   "codemirror_mode": {
    "name": "ipython",
    "version": 3
   },
   "file_extension": ".py",
   "mimetype": "text/x-python",
   "name": "python",
   "nbconvert_exporter": "python",
   "pygments_lexer": "ipython3",
   "version": "3.8.12"
  }
 },
 "nbformat": 4,
 "nbformat_minor": 5
}
